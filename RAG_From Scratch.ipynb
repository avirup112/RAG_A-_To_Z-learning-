{
 "cells": [
  {
   "cell_type": "code",
   "execution_count": 1,
   "id": "d79efa6d-3f47-4b40-b005-5d75c5cff18a",
   "metadata": {},
   "outputs": [],
   "source": [
    "\n",
    "corpus_of_documents = [\n",
    "    \"Take a leisurely walk in the park and enjoy the fresh air.\", \"Visit a local museum and discover something new.\",\n",
    "    \"Attend a live music concert and feel the rhythm.\", \"Go for a hike and admire the natural scenery.\"\n",
    "    \"Have a picnic with friends and share some laughs.\", \"Explore a new cuisine by dining at an ethnic restaurant.\",\n",
    "    \"Take a yoga class and stretch your body and mind.\",\n",
    "    \"Join a local sports league and enjoy some friendly competition.\", \"Attend a workshop or lecture on a topic you're interested in.\", \"Visit an amusement park and ride the roller coasters.\"\n",
    "    \"Attend a workshop or lecture on a topic you're interested in.\",\n",
    "    \"Vist an amusement park and ride the roller coasters.\"\n",
    "]"
   ]
  },
  {
   "cell_type": "markdown",
   "id": "eb20e3db-eaf7-4e1b-896a-70d0cd1e0db9",
   "metadata": {},
   "source": [
    "# To make embeddings of the documents and user query"
   ]
  },
  {
   "cell_type": "code",
   "execution_count": 11,
   "id": "1b279783-f7c8-46fe-8915-4edf6c969ac9",
   "metadata": {},
   "outputs": [],
   "source": [
    "# Documents embeddings\n",
    "from collections import Counter\n",
    "import math"
   ]
  },
  {
   "cell_type": "code",
   "execution_count": 12,
   "id": "704e3847-5753-4436-9ba7-bdf2b5d11d4b",
   "metadata": {},
   "outputs": [],
   "source": [
    "document_tokens = [doc.lower().split(\" \") for doc in corpus_of_documents]"
   ]
  },
  {
   "cell_type": "code",
   "execution_count": 13,
   "id": "ca40e418-4c92-4a54-b36a-fe1bef160a71",
   "metadata": {},
   "outputs": [],
   "source": [
    "flat_tokens = [word for doc in document_tokens for word in doc]\n",
    "document_counter = Counter(flat_tokens)"
   ]
  },
  {
   "cell_type": "code",
   "execution_count": 49,
   "id": "6f2954e1-fc38-49ba-932e-4a8aeadde03f",
   "metadata": {},
   "outputs": [],
   "source": [
    "# User embeddings\n",
    "user_input = \"Suggest some fun outdoor activities for the weekend.\""
   ]
  },
  {
   "cell_type": "code",
   "execution_count": 15,
   "id": "4b73c122-a6c0-4a02-a127-1c18e2d063f6",
   "metadata": {},
   "outputs": [],
   "source": [
    "query_tokens = user_query.lower().split(\" \")"
   ]
  },
  {
   "cell_type": "code",
   "execution_count": 17,
   "id": "8f88b816-ad19-4fab-b43f-93a236c5f959",
   "metadata": {},
   "outputs": [],
   "source": [
    "query_counter = Counter(query_tokens)"
   ]
  },
  {
   "cell_type": "markdown",
   "id": "d2fbf517-2dda-4d39-8ec3-0eb4f30a7a84",
   "metadata": {},
   "source": [
    "# To find similarity between documents and query"
   ]
  },
  {
   "cell_type": "code",
   "execution_count": 21,
   "id": "6a7bfeef-7a0e-4447-ad37-33f4d3a2c2a0",
   "metadata": {},
   "outputs": [],
   "source": [
    "lst = []\n",
    "for token in query_counter.keys():\n",
    "    lst.append(query_counter[token])"
   ]
  },
  {
   "cell_type": "code",
   "execution_count": 23,
   "id": "ceadc286-7d0c-45e2-90fa-f57475788da5",
   "metadata": {},
   "outputs": [
    {
     "data": {
      "text/plain": [
       "[1, 1, 1, 1, 1, 1, 1, 1]"
      ]
     },
     "execution_count": 23,
     "metadata": {},
     "output_type": "execute_result"
    }
   ],
   "source": [
    "# sentence vector\n",
    "lst"
   ]
  },
  {
   "cell_type": "code",
   "execution_count": 25,
   "id": "5dc19827-8abb-47c8-8cc8-ccea6cebc4a6",
   "metadata": {},
   "outputs": [],
   "source": [
    "# here we will do word by word matching where we compare the words in sentence with documents \n",
    "# where similar word is found we take those number and perform the dot product\n",
    "mylist = []\n",
    "for tokens in query_counter.keys() and document_counter.keys():\n",
    "    mylist.append(query_counter[tokens]*document_counter[tokens])"
   ]
  },
  {
   "cell_type": "code",
   "execution_count": 26,
   "id": "1d7d451e-4f24-4de9-a053-b2d09b46af78",
   "metadata": {},
   "outputs": [
    {
     "data": {
      "text/plain": [
       "[0,\n",
       " 0,\n",
       " 0,\n",
       " 0,\n",
       " 0,\n",
       " 6,\n",
       " 0,\n",
       " 0,\n",
       " 0,\n",
       " 0,\n",
       " 0,\n",
       " 0,\n",
       " 0,\n",
       " 0,\n",
       " 0,\n",
       " 0,\n",
       " 0,\n",
       " 0,\n",
       " 0,\n",
       " 0,\n",
       " 0,\n",
       " 0,\n",
       " 0,\n",
       " 0,\n",
       " 1,\n",
       " 0,\n",
       " 0,\n",
       " 0,\n",
       " 0,\n",
       " 0,\n",
       " 0,\n",
       " 0,\n",
       " 0,\n",
       " 2,\n",
       " 0,\n",
       " 0,\n",
       " 0,\n",
       " 0,\n",
       " 0,\n",
       " 0,\n",
       " 0,\n",
       " 0,\n",
       " 0,\n",
       " 0,\n",
       " 0,\n",
       " 0,\n",
       " 0,\n",
       " 0,\n",
       " 0,\n",
       " 0,\n",
       " 0,\n",
       " 0,\n",
       " 0,\n",
       " 0,\n",
       " 0,\n",
       " 0,\n",
       " 0,\n",
       " 0,\n",
       " 0,\n",
       " 0,\n",
       " 0,\n",
       " 0,\n",
       " 0,\n",
       " 0,\n",
       " 0,\n",
       " 0,\n",
       " 0,\n",
       " 0,\n",
       " 0]"
      ]
     },
     "execution_count": 26,
     "metadata": {},
     "output_type": "execute_result"
    }
   ],
   "source": [
    "mylist"
   ]
  },
  {
   "cell_type": "code",
   "execution_count": 33,
   "id": "c4f36d64-2a97-41d5-a600-70bd84453bfe",
   "metadata": {},
   "outputs": [],
   "source": [
    "dot_prod=sum(mylist)"
   ]
  },
  {
   "cell_type": "markdown",
   "id": "4769966c-5e33-4098-9d41-0ba20d805642",
   "metadata": {},
   "source": [
    "# To find the magnitude of the vector"
   ]
  },
  {
   "cell_type": "code",
   "execution_count": 29,
   "id": "a79c681f-2818-4eb0-bdb3-a7bd1577b5b3",
   "metadata": {},
   "outputs": [],
   "source": [
    "query_magnitude = math.sqrt(sum(query_counter[token] ** 2 for token in query_counter))"
   ]
  },
  {
   "cell_type": "code",
   "execution_count": 30,
   "id": "b325dd35-701e-48b6-acec-74764d7f778b",
   "metadata": {},
   "outputs": [
    {
     "data": {
      "text/plain": [
       "2.8284271247461903"
      ]
     },
     "execution_count": 30,
     "metadata": {},
     "output_type": "execute_result"
    }
   ],
   "source": [
    "query_magnitude"
   ]
  },
  {
   "cell_type": "code",
   "execution_count": 31,
   "id": "696e2e4d-b771-4b7f-8e41-f1d01db51d9c",
   "metadata": {},
   "outputs": [],
   "source": [
    "document_magnitude = math.sqrt(sum(document_counter[token] ** 2 for token in document_counter))"
   ]
  },
  {
   "cell_type": "code",
   "execution_count": 32,
   "id": "ad60dc06-adf2-4f55-ab17-395d4d3a897f",
   "metadata": {},
   "outputs": [
    {
     "data": {
      "text/plain": [
       "20.322401432901575"
      ]
     },
     "execution_count": 32,
     "metadata": {},
     "output_type": "execute_result"
    }
   ],
   "source": [
    "document_magnitude"
   ]
  },
  {
   "cell_type": "markdown",
   "id": "68a27002-8821-4b57-9050-e8b315c5ff44",
   "metadata": {},
   "source": [
    "# To find the similarity"
   ]
  },
  {
   "cell_type": "code",
   "execution_count": 34,
   "id": "8f242b82-4d28-4e3b-906a-50bc66eb8193",
   "metadata": {},
   "outputs": [],
   "source": [
    "similarity = (dot_prod)/(query_magnitude * document_magnitude)"
   ]
  },
  {
   "cell_type": "code",
   "execution_count": 35,
   "id": "0e571af6-9028-4f16-8d9c-0095931b77a1",
   "metadata": {},
   "outputs": [
    {
     "data": {
      "text/plain": [
       "0.15657502514382474"
      ]
     },
     "execution_count": 35,
     "metadata": {},
     "output_type": "execute_result"
    }
   ],
   "source": [
    "similarity"
   ]
  },
  {
   "cell_type": "code",
   "execution_count": 36,
   "id": "6dec48bf-c669-478b-ae2e-d7a288768c3c",
   "metadata": {},
   "outputs": [],
   "source": [
    "# in one whole function\n",
    "def cosine_similarity(query, document):\n",
    "    # tokenize and convert to lowercase\n",
    "    query_tokens = query.lower().split(\" \")\n",
    "    document_tokens = \" \".join(corpus_of_documents).lower().split(\" \")\n",
    "\n",
    "    # create Counters for query and document\n",
    "    query_counter = Counter(query_tokens)\n",
    "    document_counter = Counter(document_tokens)\n",
    "\n",
    "    # Calculate dot product\n",
    "    dot_product = sum(query_counter[token] * document_counter[token] for token in query_counter.keys())\n",
    "\n",
    "    # calculate magnitudes\n",
    "    query_magnitude = math.sqrt(sum(query_counter[token] ** 2 for token in query_counter))\n",
    "    document_magnitude = math.sqrt(sum(document_counter[token] ** 2 for token in document_counter))\n",
    "\n",
    "    # calculate cosine similarity\n",
    "    similarity = dot_product / (query_magnitude * document_magnitude) if query_magnitude * document_magnitude !=0 else 0\n",
    "\n",
    "    return similarity"
   ]
  },
  {
   "cell_type": "code",
   "execution_count": 37,
   "id": "34f94f38-c0ab-48c7-beb3-bfa1f7e67128",
   "metadata": {},
   "outputs": [
    {
     "data": {
      "text/plain": [
       "0.15657502514382474"
      ]
     },
     "execution_count": 37,
     "metadata": {},
     "output_type": "execute_result"
    }
   ],
   "source": [
    "cosine_similarity(user_query,corpus_of_documents)"
   ]
  },
  {
   "cell_type": "code",
   "execution_count": 46,
   "id": "46cea754-767f-4181-9248-313a5f2c5e73",
   "metadata": {},
   "outputs": [],
   "source": [
    "def return_response(query, corpus):\n",
    "    similarities = []\n",
    "    for doc in corpus:\n",
    "        sim = cosine_similarity(query, [doc])\n",
    "        similarities.append(sim)\n",
    "    return corpus_of_documents[similarities.index(max(similarities))]  "
   ]
  },
  {
   "cell_type": "code",
   "execution_count": 48,
   "id": "c7e46f0e-0628-4b27-99b6-ca2a17a530b0",
   "metadata": {},
   "outputs": [],
   "source": [
    "relevant_document = return_response(user_query,corpus_of_documents)"
   ]
  },
  {
   "cell_type": "markdown",
   "id": "6027fab6-52d1-40d8-b43c-1f633b62a13a",
   "metadata": {},
   "source": [
    "# To integrate the LLM for response generation"
   ]
  },
  {
   "cell_type": "code",
   "execution_count": 40,
   "id": "0f3375d4-1f2f-4bed-b2e1-66d3c397ae9d",
   "metadata": {},
   "outputs": [],
   "source": [
    "import requests\n",
    "import json\n",
    "full_response = []"
   ]
  },
  {
   "cell_type": "code",
   "execution_count": 51,
   "id": "637e20b5-cd52-4725-9177-955a6916f529",
   "metadata": {},
   "outputs": [
    {
     "name": "stdout",
     "output_type": "stream",
     "text": [
      " Sure, here's my recommendation:\n",
      "\n",
      "How about a picnic in the park? Pack some of your favorite snacks and drinks and enjoy the beautiful scenery while spending time with loved ones!\n"
     ]
    }
   ],
   "source": [
    "prompt = \"\"\"\n",
    "You are a bot that makes recommendations for activities. You answer in very short sentences and do not include extra information\n",
    "This is the recommended activity : {relevant_document}\n",
    "The user input is: {user_input}\n",
    "Compile a recommendation to the user based on the recommended activity and the user input.\n",
    "\"\"\"\n",
    "\n",
    "url = 'http://localhost:11434/api/generate'\n",
    "\n",
    "data = {\n",
    "    \"model\":\"llama2\",\n",
    "    \"prompt\":prompt.format(user_input=user_input, relevant_document=relevant_document)\n",
    "}\n",
    "\n",
    "headers = {'Content-Type': 'application/json'}\n",
    "response = requests.post(url, data=json.dumps(data), headers=headers, stream=True)\n",
    "try:\n",
    "    for line in response.iter_lines():\n",
    "        #filter out keep-alive new lines\n",
    "        if line:\n",
    "            decoded_line = json.loads(line.decode('utf-8'))\n",
    "            # print(decoded_ine['response']) # uncomment to result, token by token\n",
    "            full_response.append(decoded_line['response'])\n",
    "finally:\n",
    "    response.close()\n",
    "print(''.join(full_response))"
   ]
  },
  {
   "cell_type": "code",
   "execution_count": null,
   "id": "11604b07-d8e4-402c-8f74-106fd704ff02",
   "metadata": {},
   "outputs": [],
   "source": []
  }
 ],
 "metadata": {
  "kernelspec": {
   "display_name": "Python 3 (ipykernel)",
   "language": "python",
   "name": "python3"
  },
  "language_info": {
   "codemirror_mode": {
    "name": "ipython",
    "version": 3
   },
   "file_extension": ".py",
   "mimetype": "text/x-python",
   "name": "python",
   "nbconvert_exporter": "python",
   "pygments_lexer": "ipython3",
   "version": "3.11.0"
  },
  "widgets": {
   "application/vnd.jupyter.widget-state+json": {
    "state": {},
    "version_major": 2,
    "version_minor": 0
   }
  }
 },
 "nbformat": 4,
 "nbformat_minor": 5
}
